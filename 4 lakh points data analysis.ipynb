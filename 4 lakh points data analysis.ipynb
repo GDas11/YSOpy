{
 "cells": [
  {
   "cell_type": "markdown",
   "id": "280f8884",
   "metadata": {},
   "source": [
    "## Calling the file and converting it to data(array)"
   ]
  },
  {
   "cell_type": "code",
   "execution_count": 15,
   "id": "c2612f00",
   "metadata": {},
   "outputs": [],
   "source": [
    "from jupyterthemes import jtplot\n",
    "jtplot.style()"
   ]
  },
  {
   "cell_type": "code",
   "execution_count": 16,
   "id": "d723ce7a",
   "metadata": {},
   "outputs": [],
   "source": [
    "import numpy as np\n",
    "import numpy.ma as ma\n",
    "import matplotlib.pyplot as plt\n",
    "import pandas as pd\n",
    "import scipy as sci\n",
    "from scipy import interpolate\n",
    "from astropy.table import Table\n",
    "t = Table.read('/Users/tusharkantidas/NIUS/Temp/015.xml')\n",
    "#print(t)\n",
    "from astropy.io.votable import parse_single_table\n",
    "table = parse_single_table('/Users/tusharkantidas/NIUS/Temp/015.xml')\n",
    "#print(table)\n",
    "#%matplotlib notebook\n",
    "data = table.array"
   ]
  },
  {
   "cell_type": "markdown",
   "id": "7ac1d88e",
   "metadata": {},
   "source": [
    "## Giving some initial constants for the program"
   ]
  },
  {
   "cell_type": "code",
   "execution_count": 17,
   "id": "19f695ac",
   "metadata": {},
   "outputs": [],
   "source": [
    "lambda_o = 5000  # # # This is the confusion. What are we supposed to take this lambda not.\n",
    "inclination = (np.pi)/6         # in radian\n",
    "c = sci.constants.c # speed of light\n",
    "G = sci.constants.G        #gravitational constant\n",
    "sigma = sci.constants.sigma     #stephen boltzmann constant"
   ]
  },
  {
   "cell_type": "markdown",
   "id": "5ed7fae6",
   "metadata": {},
   "source": [
    "## Determining the truncation radius and plot of radius vs temp"
   ]
  },
  {
   "cell_type": "code",
   "execution_count": 18,
   "id": "36d32300",
   "metadata": {},
   "outputs": [
    {
     "data": {
      "text/plain": [
       "[<matplotlib.lines.Line2D at 0x7f90b8067370>]"
      ]
     },
     "execution_count": 18,
     "metadata": {},
     "output_type": "execute_result"
    },
    {
     "data": {
      "image/png": "[encoded data removed]",
      "text/plain": [
       "<Figure size 460.8x403.2 with 1 Axes>"
      ]
     },
     "metadata": {},
     "output_type": "display_data"
    }
   ],
   "source": [
    "# R_in # inner truncation radius\n",
    "# Refering Bovier paper\n",
    "B_s = 1000 * (10**(-4))# in TESLA SI Unit\n",
    "M_s = 0.6 * 1.9891 * (10**30) # twice of our sun in kg\n",
    "M_dot_s = 3.8 * 10**(-5) * 1.9891 * (10**30) # accretion rate in units of mass of sun ##per year\n",
    "M_dot_s = (3.8 * 10**(-5) * 1.9891 * (10**30))/(60*60*24*365.25) # in kg per sec\n",
    "R_s = 2 * 696340 * 1000 # in metres\n",
    "\n",
    "R_in_trunc = ((B_s)**(4/7) * (R_s)**(12/7))/((M_dot_s)**(2/7) * (2*G*M_s)**(1/7)) # in SI units\n",
    "R_in_trunc = 3.5 * R_s\n",
    "R_in_trunc\n",
    "# Problem is reading the values in formula for R_trucation\n",
    "\n",
    "\n",
    "# dont know why are the values so large????\n",
    "radius = np.linspace(R_in_trunc, 100 * R_in_trunc, 10000)\n",
    "tempp = ((3 * G * M_s * M_dot_s) / (8 * np.pi * sigma * ((radius) ** 3)) * (1 - ((R_in_trunc / radius) ** (1 / 2))))**0.25\n",
    "plt.plot(radius,tempp)"
   ]
  },
  {
   "cell_type": "markdown",
   "id": "f8b6b27d",
   "metadata": {},
   "source": [
    "## Trimming the radius and temp around temp of interest and determining R"
   ]
  },
  {
   "cell_type": "code",
   "execution_count": 19,
   "id": "fee197c4",
   "metadata": {
    "scrolled": false
   },
   "outputs": [
    {
     "name": "stdout",
     "output_type": "stream",
     "text": [
      "Enter the value of temp: 1500\n",
      "Total no of data points in temp range 1500 +/- 50 is 76\n",
      "Average value of radius that can be taken: 6732435742.574257\n"
     ]
    }
   ],
   "source": [
    "# here we define a window of 100K where we want to find the average value of radius for a given input of temperature\n",
    "radius_vs_temp = (radius,tempp)  # define an array of rad vs temp\n",
    "t = int(input('Enter the value of temp: '))  # input the temp of interest\n",
    "trimmed_temp = np.extract(tempp > t - 50,tempp)\n",
    "trimmed_temp = np.extract(trimmed_temp < t + 50, trimmed_temp)\n",
    "trimmed_temp # Window of interest in terms of temp\n",
    "trimmed_radius = np.extract(tempp > t - 50, radius)\n",
    "trimmed_radius = np.extract(trimmed_temp < t + 50, trimmed_radius)\n",
    "trimmed_radius  # Window of interest in terms of radius\n",
    "print('Total no of data points in temp range {} +/- 50 is {}'.format(t,len(trimmed_radius)))\n",
    "print('Average value of radius that can be taken: {}'.format(sum(trimmed_radius)/len(trimmed_radius)))\n",
    "R = sum(trimmed_radius)/len(trimmed_radius) # radius of accretion disk at that temperature"
   ]
  },
  {
   "cell_type": "code",
   "execution_count": 20,
   "id": "117a299c",
   "metadata": {},
   "outputs": [
    {
     "name": "stdout",
     "output_type": "stream",
     "text": [
      "6732435742.574257\n",
      "v keplerian:  108772.89493608935\n",
      "Lamba Max:  0.9070683070360073\n",
      "kernel width: 1.8141366140720145\n"
     ]
    }
   ],
   "source": [
    "print(R)# Radius\n",
    "v_kep = (G*M_s/R)**0.5\n",
    "print('v keplerian: ',v_kep)\n",
    "np.sin(inclination)/(c) * v_kep\n",
    "lambda_max = (lambda_o * np.sin(inclination))/(c) * v_kep\n",
    "print('Lamba Max: ',lambda_max)\n",
    "print('kernel width: {}'.format(lambda_max*2))"
   ]
  },
  {
   "cell_type": "markdown",
   "id": "9ced28aa",
   "metadata": {},
   "source": [
    "## Trimming the wavelength and flux from 3000-50000"
   ]
  },
  {
   "cell_type": "code",
   "execution_count": 21,
   "id": "592c5355",
   "metadata": {},
   "outputs": [
    {
     "name": "stdout",
     "output_type": "stream",
     "text": [
      "(3000.030029296875, 0.005119080189615488) (49999.80078125, 1492.6199951171875)\n",
      "Sampling rate at lambda_0:  36\n",
      "37\n",
      "Initial Sampling rate at lambda_i:  37\n",
      "Initial Sampling rate at lambda_f:  10\n"
     ]
    }
   ],
   "source": [
    "#finding initial sampling rate of the data\n",
    "trimmed_data = np.extract(data['WAVELENGTH']>3000,data)\n",
    "trimmed_data = np.extract(trimmed_data['WAVELENGTH']<50000,trimmed_data)\n",
    "print(trimmed_data[0],trimmed_data[-1])\n",
    "# Sampling rate at Lambda not \n",
    "trim_dta = np.extract(trimmed_data['WAVELENGTH']>(lambda_o-lambda_max),trimmed_data)\n",
    "trim_dta = np.extract(trim_dta['WAVELENGTH']<(lambda_o+lambda_max),trim_dta)\n",
    "trim_dta\n",
    "print('Sampling rate at lambda_0: ',len(trim_dta))\n",
    "#sampling at initial lambda\n",
    "trim_dta_2 = np.extract(trimmed_data['WAVELENGTH']<(trimmed_data['WAVELENGTH'][0]+(2*lambda_max)),trimmed_data)\n",
    "#print(trim_dta_2)\n",
    "print(len(trim_dta_2))\n",
    "print('Initial Sampling rate at lambda_i: ',len(trim_dta_2))\n",
    "#sampling at final lambda\n",
    "trim_dta_3 = np.extract(trimmed_data['WAVELENGTH']>(trimmed_data['WAVELENGTH'][-1]-(2*lambda_max)),trimmed_data)\n",
    "trim_dta_3\n",
    "print('Initial Sampling rate at lambda_f: ',len(trim_dta_3))"
   ]
  },
  {
   "cell_type": "markdown",
   "id": "10e5237d",
   "metadata": {},
   "source": [
    "## Determining the difference between subsequent data points "
   ]
  },
  {
   "cell_type": "code",
   "execution_count": 22,
   "id": "086580a2",
   "metadata": {},
   "outputs": [
    {
     "name": "stdout",
     "output_type": "stream",
     "text": [
      "420050\n"
     ]
    },
    {
     "data": {
      "text/plain": [
       "420050"
      ]
     },
     "execution_count": 22,
     "metadata": {},
     "output_type": "execute_result"
    }
   ],
   "source": [
    "x_dash = trimmed_data['WAVELENGTH']\n",
    "y_dash = trimmed_data['FLUX']\n",
    "diff_in_wave = [0]\n",
    "for i in range(len(x_dash)-1):\n",
    "    diff_dash = x_dash[i+1]-x_dash[i]\n",
    "    diff_in_wave.append(diff_dash)\n",
    "#print(diff_wavelength_dash)\n",
    "print(len(diff_in_wave))\n",
    "#plt.plot(x_dash,np.log10(diff_wavelength_dash))\n",
    "diff_in_wave[-1]\n",
    "#here I see that the difference is not increasing linearly.\n",
    "# We from ourselves define a new linspace such that the difference is linearly increasing\n",
    "len(y_dash)\n",
    "#diff_in_wave"
   ]
  },
  {
   "cell_type": "markdown",
   "id": "b6ad7820",
   "metadata": {},
   "source": [
    "# Define a new linespace and calc the cumm sum"
   ]
  },
  {
   "cell_type": "markdown",
   "id": "ea641a1c",
   "metadata": {},
   "source": [
    "## Here we have to tune 2nd parameter in line 3 so that cf[-1] is close to 50000 but less\n"
   ]
  },
  {
   "cell_type": "code",
   "execution_count": 23,
   "id": "be9c396c",
   "metadata": {},
   "outputs": [
    {
     "name": "stdout",
     "output_type": "stream",
     "text": [
      "[0.00000000e+00 5.32746102e-07 1.06549220e-06 ... 2.23778935e-01\n",
      " 2.23779467e-01 2.23780000e-01]\n"
     ]
    },
    {
     "data": {
      "text/plain": [
       "49999.05883053245"
      ]
     },
     "execution_count": 23,
     "metadata": {},
     "output_type": "execute_result"
    }
   ],
   "source": [
    "#define a new linspace\n",
    "len(diff_in_wave)\n",
    "new_difference = np.linspace(diff_in_wave[0],0.22378,420051) # the final value how to approach in proper method\n",
    "#plt.plot(x,wave_dash)\n",
    "#wave_dash\n",
    "print(new_difference)\n",
    "cumsumm = [0]\n",
    "\n",
    "for i in range(len(new_difference)):\n",
    "    xx = new_difference[i] + cumsumm[-1]\n",
    "    cumsumm.append(xx)\n",
    "#cf = np.cumsum(new_difference)\n",
    "#print(cumsumm)\n",
    "'''x_new = [3000]\n",
    "for i in range(len(cf)-1):\n",
    "    new_ele =  cf[i] - x_new[-1]\n",
    "    x_new.append(new_ele)\n",
    "len(x_new)\n",
    "x_new[-1]'''\n",
    "#new_x = np.linspace(3000,50000,420051)\n",
    "#plt.plot(new_x,cf)\n",
    "cf = []\n",
    "for i in range(len(diff_in_wave)):\n",
    "    cs = 3000 + cumsumm[i]\n",
    "    cf.append(cs)\n",
    "diff_in_wave[-3]\n",
    "cf[-1]\n"
   ]
  },
  {
   "cell_type": "markdown",
   "id": "674371c0",
   "metadata": {},
   "source": [
    "# Defining the kernel and normalise"
   ]
  },
  {
   "cell_type": "code",
   "execution_count": 24,
   "id": "ac854a89",
   "metadata": {},
   "outputs": [
    {
     "name": "stdout",
     "output_type": "stream",
     "text": [
      "6732435742.574257\n",
      "4999.092931692964 5000.907068307036 37\n"
     ]
    },
    {
     "data": {
      "text/plain": [
       "array([0.06264475, 0.04492488, 0.03721653, 0.03271515, 0.02971501,\n",
       "       0.02756001, 0.02593739, 0.02467697, 0.02367749, 0.02287463,\n",
       "       0.02222557, 0.02170078, 0.02127936, 0.02094633, 0.02069088,\n",
       "       0.02050531, 0.02038433, 0.02032464, 0.02032464, 0.02038433,\n",
       "       0.02050531, 0.02069088, 0.02094633, 0.02127936, 0.02170078,\n",
       "       0.02222557, 0.02287463, 0.02367749, 0.02467697, 0.02593739,\n",
       "       0.02756001, 0.02971501, 0.03271515, 0.03721653, 0.04492488,\n",
       "       0.06264475])"
      ]
     },
     "execution_count": 24,
     "metadata": {},
     "output_type": "execute_result"
    }
   ],
   "source": [
    "#NEW KERNEL #taking lambda not  == lambda not\n",
    "print(R)# Radius\n",
    "\n",
    "#Writing the kernel\n",
    "#x_inter\n",
    "para_1 = lambda_o-lambda_max\n",
    "para_2 = lambda_o+lambda_max\n",
    "para_3 = len(trim_dta_2)\n",
    "print(para_1, para_2, para_3)\n",
    "ax = np.linspace(para_1,para_2,para_3,False)\n",
    "y_ker = (1-((ax-lambda_o)/lambda_max)**2)**(-0.5)\n",
    "y_ker = np.ma.masked_invalid(y_ker)\n",
    "y_ker = np.ma.filled(y_ker, 0)\n",
    "ax=np.delete(ax,0)\n",
    "y_ker=np.delete(y_ker,0)\n",
    "#plt.plot(ax,y_ker,)\n",
    "# y_ker.count()\n",
    "w = np.count_nonzero(y_ker)\n",
    "#print(y_ker[0])\n",
    "\n",
    "# normalise the kernel\n",
    "#Area calc\n",
    "'''new_x\n",
    "dx = (ax[-1]-ax[0])/len(ax)\n",
    "print(dx)\n",
    "elemental_area = []\n",
    "for r in range(len(ax)):\n",
    "    are = ax[r]*dx\n",
    "    elemental_area.append(are)\n",
    "total_area = sum(elemental_area)\n",
    "total_area'''\n",
    "final_kernel = y_ker/np.sum(y_ker)\n",
    "final_kernel"
   ]
  },
  {
   "cell_type": "markdown",
   "id": "1429a79c",
   "metadata": {},
   "source": [
    "# Interpolate the data and determine new_y as function of cf"
   ]
  },
  {
   "cell_type": "code",
   "execution_count": 25,
   "id": "4b6cd40f",
   "metadata": {},
   "outputs": [
    {
     "name": "stdout",
     "output_type": "stream",
     "text": [
      "420050\n",
      "x_dash  [3000.030029296875 3000.080078125 3000.1298828125 ... 49999.3984375\n",
      " 49999.6015625 49999.80078125]\n",
      "cf 3000 49999.05883053245\n",
      "336\n",
      "420049\n",
      "420050\n"
     ]
    },
    {
     "data": {
      "text/plain": [
       "[<matplotlib.lines.Line2D at 0x7f910c30f9a0>]"
      ]
     },
     "execution_count": 25,
     "metadata": {},
     "output_type": "execute_result"
    },
    {
     "data": {
      "image/png": "[encoded data removed]",
      "text/plain": [
       "<Figure size 460.8x403.2 with 1 Axes>"
      ]
     },
     "metadata": {},
     "output_type": "display_data"
    }
   ],
   "source": [
    "# interpolate with a fixed function throughout\n",
    "y_dash\n",
    "f = interpolate.interp1d(x_dash,y_dash)\n",
    "#x_after_inter = np.linspace(3000.1,49999.00,420051)\n",
    "print(len(cf))\n",
    "#cf.remove(3000)\n",
    "print('x_dash ',x_dash)\n",
    "print('cf' ,cf[0],cf[-1])\n",
    "reqq = x_dash[0]\n",
    "diff_array = np.absolute(cf - reqq)\n",
    "index_min = diff_array.argmin()\n",
    "print(index_min)\n",
    "index_max = diff_array.argmax()\n",
    "print(index_max)\n",
    "print(len(x_dash))\n",
    "new_y = f(cf[index_min+1:])\n",
    "plt.plot(cf[index_min+1:index_max+1],np.log(new_y))\n",
    "#plt.plot()"
   ]
  },
  {
   "cell_type": "markdown",
   "id": "5b9c9220",
   "metadata": {},
   "source": [
    "# Convolution and plotting"
   ]
  },
  {
   "cell_type": "code",
   "execution_count": 26,
   "id": "90e13275",
   "metadata": {},
   "outputs": [
    {
     "data": {
      "text/plain": [
       "[<matplotlib.lines.Line2D at 0x7f9129ee5070>,\n",
       " <matplotlib.lines.Line2D at 0x7f9129ee50a0>]"
      ]
     },
     "execution_count": 26,
     "metadata": {},
     "output_type": "execute_result"
    },
    {
     "data": {
      "image/png": "[encoded data removed]",
      "text/plain": [
       "<Figure size 460.8x403.2 with 1 Axes>"
      ]
     },
     "metadata": {},
     "output_type": "display_data"
    }
   ],
   "source": [
    "convolved_curve = np.convolve(new_y, final_kernel, mode='same')\n",
    "plt.plot(x_dash,np.log10(y_dash),'b',cf[index_min:index_max],np.log10(convolved_curve),'r')"
   ]
  },
  {
   "cell_type": "code",
   "execution_count": null,
   "id": "2950bfb1",
   "metadata": {},
   "outputs": [],
   "source": [
    "\n"
   ]
  },
  {
   "cell_type": "code",
   "execution_count": null,
   "id": "19dc513f",
   "metadata": {},
   "outputs": [],
   "source": []
  },
  {
   "cell_type": "code",
   "execution_count": null,
   "id": "521e7842",
   "metadata": {},
   "outputs": [],
   "source": []
  }
 ],
 "metadata": {
  "kernelspec": {
   "display_name": "Python 3 (ipykernel)",
   "language": "python",
   "name": "python3"
  },
  "language_info": {
   "codemirror_mode": {
    "name": "ipython",
    "version": 3
   },
   "file_extension": ".py",
   "mimetype": "text/x-python",
   "name": "python",
   "nbconvert_exporter": "python",
   "pygments_lexer": "ipython3",
   "version": "3.9.7"
  }
 },
 "nbformat": 4,
 "nbformat_minor": 5
}
